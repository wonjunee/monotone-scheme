{
  "cells": [
    {
      "cell_type": "markdown",
      "metadata": {},
      "source": [
        "# Motion by Curvature PDE in 3D Cartesian Grids\n",
        "\n",
        "In this notebook, we are interested in solving the motion by curvature PDE. Consider a unit square domain $\\Omega$ in 3D which is discretized as regular Cartesian grids. Let $u:\\Omega\\rightarrow \\mathbb{R}$ be a function that satisfies the PDE\n",
        "$$ |\\nabla u(x)| \\kappa(x) = f(x) $$\n",
        "where $\\kappa(x)$ is a curvature function defined as \n",
        "$$ \\kappa(x) = \\frac{\\nabla u(x)^\\top}{|\\nabla u(x)^\\top|} $$\n",
        "We will solve this PDE using the monotone scheme proposed in the paper. The below is the outline of this notebook.\n",
        "\n",
        "1. Importing library\n",
        "2. Constructing 3d stencils\n",
        "3. Constructing the right hand side function $f:\\Omega\\rightarrow \\mathbb{R}$\n",
        "4. Solve the PDE using the proposed monotone scheme\n",
        "5. Plot the results\n",
        "\n",
        "\n",
        "## Importing C++ library"
      ]
    },
    {
      "cell_type": "code",
      "execution_count": null,
      "metadata": {
        "colab": {
          "base_uri": "https://localhost:8080/"
        },
        "id": "nSh2osFVUk3H",
        "outputId": "01f7be25-e867-46c2-f23d-989054d37726"
      },
      "outputs": [],
      "source": [
        "# Run if you are on Google Colab to install the Python bindings\n",
        "!bash compile.sh"
      ]
    },
    {
      "cell_type": "markdown",
      "metadata": {},
      "source": [
        "## Importing python libraries"
      ]
    },
    {
      "cell_type": "code",
      "execution_count": null,
      "metadata": {
        "id": "19ai916xeH0p"
      },
      "outputs": [],
      "source": [
        "import argparse\n",
        "import os\n",
        "import numpy as np\n",
        "import math\n",
        "import sys\n",
        "import copy\n",
        "import time\n",
        "import matplotlib.pyplot as plt\n",
        "from Monotone import Curv3DSolver\n",
        "import plotly.graph_objects as go\n",
        "\n",
        "\n",
        "# make folder if not exists\n",
        "save_fig_path = 'figures'\n",
        "if not os.path.exists(save_fig_path):\n",
        "    os.makedirs(save_fig_path)\n",
        "save_data_path = 'data'\n",
        "if not os.path.exists(save_data_path):\n",
        "    os.makedirs(save_data_path)"
      ]
    },
    {
      "cell_type": "markdown",
      "metadata": {},
      "source": [
        "## Constructing 3D stencils"
      ]
    },
    {
      "cell_type": "code",
      "execution_count": null,
      "metadata": {},
      "outputs": [],
      "source": [
        "# 3D version\n",
        "\n",
        "# Given a stencil_size, this function will return a numpy array of size [ __, 3 ]\n",
        "# If stencil_size = 1 then it provides stencils ranging from -1 to 1\n",
        "# If stencil_size = 2 then it provides stencils ranging from -2 to 2\n",
        "def create_stencils_3d(stencil_size):\n",
        "    stencils_tmp = []\n",
        "    # add cases for i0 == 0\n",
        "    for i0 in range(-stencil_size, stencil_size+1):\n",
        "        for i1 in range(-stencil_size, stencil_size+1):\n",
        "            for i2 in range(-stencil_size, stencil_size+1):\n",
        "                if i0!=0 or i1!=0 or i2!=0:\n",
        "                    stencils_tmp.append((i0,i1,i2, np.arctan2(i0,i1), np.arctan2(i0,i2), np.arctan2(i1,i2), i0*i0 + i1*i1 + i2*i2))\n",
        "\n",
        "    stencils_tmp.sort(key=lambda x: x[6])\n",
        "    stencils_tmp.sort(key=lambda x: x[5])\n",
        "    stencils_tmp.sort(key=lambda x: x[4])\n",
        "    stencils_tmp.sort(key=lambda x: x[3])\n",
        "\n",
        "    stencils = []\n",
        "    for i, it in enumerate(stencils_tmp):\n",
        "        if i == 0:\n",
        "            stencils.append(it[:3])\n",
        "        else:\n",
        "            if it[3] != stencils_tmp[i-1][3] or it[4] != stencils_tmp[i-1][4] or it[5] != stencils_tmp[i-1][5]:\n",
        "                stencils.append(it[:3])\n",
        "\n",
        "    del stencils_tmp\n",
        "    return np.array(stencils)\n",
        "\n",
        "# Let's get a numpy array that contains the list of stencils given the stencil size in 3D\n",
        "stencil_size = 2\n",
        "stencils = create_stencils_3d(stencil_size)\n",
        "\n",
        "fig = plt.figure()\n",
        "ax = fig.add_subplot(111, projection='3d')\n",
        "for i in stencils:\n",
        "    ax.plot([0,i[0]], [0,i[1]], [0,i[2]], 'o-')\n",
        "ax.set_title(f\"Example of stencils in 3D\\nNumber of stencils: {len(stencils)}\")\n",
        "plt.show()"
      ]
    },
    {
      "cell_type": "markdown",
      "metadata": {},
      "source": [
        "## Constructing the right hand side function"
      ]
    },
    {
      "cell_type": "code",
      "execution_count": null,
      "metadata": {},
      "outputs": [],
      "source": [
        "# create an empty f\n",
        "n = 50\n",
        "f = np.zeros((n,n,n))\n",
        "u = np.zeros((n,n,n))\n",
        "# initializing f\n",
        "xx = np.linspace(0.5/n,1-0.5/n,n)\n",
        "X,Y,Z = np.meshgrid(xx,xx,xx)\n",
        "X2,Y2 = np.meshgrid(xx,xx)\n",
        "\n",
        "def f_ellipse():\n",
        "    f = np.zeros((n,n,n))\n",
        "    theta = -np.pi/3.0\n",
        "    Xr = 0.5 + np.cos(theta)*(X-0.5) - np.sin(theta)*(Y-0.5)\n",
        "    Yr = 0.5 + np.sin(theta)*(X-0.5) + np.cos(theta)*(Y-0.5)\n",
        "    f[4*pow(Xr - 0.5,2) + pow(Yr-0.5,2) + pow(Z-0.5,2) < 0.5 ** 2] = 1\n",
        "    return f\n",
        "\n",
        "def twoballs():\n",
        "    f = np.zeros((n,n,n))\n",
        "    vals = []\n",
        "    centers = [0.3, 0.7]\n",
        "    for i in centers:\n",
        "        vals.append((X-i)**2 + (Y-i)**2 + (Z-i)**2 <centers[0]**2)\n",
        "    for val in vals:\n",
        "        f[val] = 1\n",
        "    return f\n",
        "\n",
        "def eightballs():\n",
        "    f = np.zeros((n,n,n))\n",
        "    vals = []\n",
        "    centers = [0.24, 0.76]\n",
        "    for i in centers:\n",
        "        for j in centers:\n",
        "            for k in centers:\n",
        "                vals.append((X-i)**2 + (Y-j)**2 + (Z-k)**2 <centers[0]**2)\n",
        "    for val in vals:\n",
        "        f[val] = 1\n",
        "    return f\n",
        "\n",
        "# f = eightballs()\n",
        "# f = f_ellipse()\n",
        "f[(np.abs(X-0.5)<0.5) & (np.abs(Y-0.5)<0.5) & (np.abs(Z-0.5)<0.5)] = 1\n",
        "# f[(np.abs(X-0.5)<0.3) & (np.abs(Y-0.5)<0.3) & (np.abs(Z-0.5)<0.3)] = 1\n",
        "\n",
        "# f[((X-0.5)**2 + (Y-0.5)**2 + (Z-0.5)**2 <0.49**2) ] = 1\n",
        "\n",
        "\n",
        "# returning contiguous arrays in memory\n",
        "u = np.ascontiguousarray(u, dtype=np.float64)  # solution\n",
        "f = np.ascontiguousarray(f, dtype=np.float64)  # the right hand side function\n",
        "\n",
        "# plotting f\n",
        "fig = go.Figure(data=go.Isosurface(\n",
        "    x=X.flatten(),\n",
        "    y=Y.flatten(),\n",
        "    z=Z.flatten(),\n",
        "    value=f.flatten(),\n",
        "    opacity=0.6,\n",
        "    isomin=np.min(f),\n",
        "    isomax=np.max(f),\n",
        "    surface_count=10,\n",
        "    caps=dict(x_show=False, y_show=False, z_show=False)\n",
        "    ))\n",
        "fig.show()"
      ]
    },
    {
      "cell_type": "markdown",
      "metadata": {},
      "source": [
        "## Solve the PDE"
      ]
    },
    {
      "cell_type": "code",
      "execution_count": null,
      "metadata": {},
      "outputs": [],
      "source": [
        "# optimization parameters\n",
        "max_iter = 500\n",
        "tolerance= 1e-3\n",
        "\n",
        "# initialize the HJ solver\n",
        "solver = Curv3DSolver(f, stencils, stencil_size)\n",
        "\n",
        "# Running the iterations\n",
        "start_time = time.time()\n",
        "error_array = []\n",
        "offset_arr = [5, 15,25, 35, 45]\n",
        "for i in range(max_iter):\n",
        "    error = solver.perform_one_iteration(u)\n",
        "    error_array.append(error)\n",
        "    # print(f\"i: {i} error: {error:0.2e} time: {time.time() - start_time:0.2e} sec\")\n",
        "    # if error is less than tolerance stop the iteration\n",
        "    if error < tolerance:\n",
        "        break\n",
        "    # save figures\n",
        "    if i % 10 == 0:\n",
        "        fig = plt.figure(figsize=(15,5))\n",
        "        \n",
        "        for ii in range(5):\n",
        "            ax = fig.add_subplot(2,5,ii+1)\n",
        "            ax.contourf(X2,Y2,u[offset_arr[ii],:,:])\n",
        "            ax.axis('off')\n",
        "            ax.set_aspect('equal')\n",
        "        title_str = f\"i: {i} error: {error:0.2e} time: {time.time() - start_time:0.2e} sec\"\n",
        "        plt.title(title_str)\n",
        "        ax = fig.add_subplot(2,1,2)\n",
        "        ax.plot(error_array,'o-')\n",
        "        plt.savefig(f\"{save_fig_path}/fig-{i//10}.png\")\n",
        "        plt.show()\n",
        "    # save data\n",
        "    if i % 100 == 0:\n",
        "        np.save(f\"{save_data_path}/data-{i//100}.npy\",u)\n",
        "    "
      ]
    },
    {
      "cell_type": "markdown",
      "metadata": {},
      "source": [
        "## Plotting"
      ]
    },
    {
      "cell_type": "code",
      "execution_count": null,
      "metadata": {},
      "outputs": [],
      "source": [
        "# Load data\n",
        "u = np.load(f\"data/data-4.npy\")\n",
        "\n",
        "# plotting the result\n",
        "fig = plt.figure(figsize=(6,6))\n",
        "ax = fig.add_subplot(projection=\"3d\")\n",
        "skip = 4\n",
        "mask = u[::skip,::skip,::skip] > 0\n",
        "ax.scatter3D(X[::skip,::skip,::skip][mask],Y[::skip,::skip,::skip][mask],Z[::skip,::skip,::skip][mask], c = u[::skip,::skip,::skip][mask], alpha=0.8)\n",
        "ax.set_xlim3d([0,1])\n",
        "ax.set_ylim3d([0,1])\n",
        "ax.set_zlim3d([0,1])\n",
        "plt.tight_layout()\n",
        "plt.savefig(f\"{save_fig_path}/3d-particle.png\")\n",
        "# ax.set_title(\"f\")\n",
        "plt.show()\n",
        "print(np.max(u),np.min(u))"
      ]
    },
    {
      "cell_type": "code",
      "execution_count": null,
      "metadata": {},
      "outputs": [],
      "source": [
        "fig = go.Figure(data=go.Isosurface(\n",
        "    x=X.flatten(),\n",
        "    y=Y.flatten(),\n",
        "    z=Z.flatten(),\n",
        "    value=u.flatten(),\n",
        "    opacity=0.6,\n",
        "    isomin=np.max(u),\n",
        "    isomax=np.min(u),\n",
        "    surface_count=10,\n",
        "    caps=dict(x_show=False, y_show=False, z_show=False)\n",
        "    ))\n",
        "fig.show()"
      ]
    },
    {
      "cell_type": "code",
      "execution_count": null,
      "metadata": {},
      "outputs": [],
      "source": []
    }
  ],
  "metadata": {
    "accelerator": "GPU",
    "colab": {
      "gpuType": "T4",
      "provenance": []
    },
    "kernelspec": {
      "display_name": "Python 3",
      "name": "python3"
    },
    "language_info": {
      "codemirror_mode": {
        "name": "ipython",
        "version": 3
      },
      "file_extension": ".py",
      "mimetype": "text/x-python",
      "name": "python",
      "nbconvert_exporter": "python",
      "pygments_lexer": "ipython3",
      "version": "3.6.10"
    }
  },
  "nbformat": 4,
  "nbformat_minor": 0
}
