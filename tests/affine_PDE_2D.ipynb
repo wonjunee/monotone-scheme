{
  "cells": [
    {
      "cell_type": "markdown",
      "metadata": {},
      "source": [
        "# Affine flows in 2D Cartesian Grids\n",
        "\n",
        "Solving \n",
        "$$ |\\nabla u(x)| \\kappa^{1/3}_+(x) = f(x), \\quad x \\in \\Omega $$\n",
        "where $\\kappa(x)$"
      ]
    },
    {
      "cell_type": "code",
      "execution_count": 2,
      "metadata": {},
      "outputs": [
        {
          "name": "stdout",
          "output_type": "stream",
          "text": [
            "running build_ext\n",
            "gcc -Wno-unused-result -Wsign-compare -Wunreachable-code -DNDEBUG -g -fwrapv -O3 -Wall -Wstrict-prototypes -I/Users/wonjunlee/miniconda3/envs/cv/include -arch x86_64 -I/Users/wonjunlee/miniconda3/envs/cv/include -arch x86_64 -I/Users/wonjunlee/miniconda3/envs/cv/include/python3.6m -c flagcheck.cpp -o flagcheck.o -std=c++17\n",
            "building 'MonotoneScheme' extension\n",
            "creating build\n",
            "creating build/temp.macosx-10.9-x86_64-3.6\n",
            "creating build/temp.macosx-10.9-x86_64-3.6/src\n",
            "gcc -Wno-unused-result -Wsign-compare -Wunreachable-code -DNDEBUG -g -fwrapv -O3 -Wall -Wstrict-prototypes -I/Users/wonjunlee/miniconda3/envs/cv/include -arch x86_64 -I/Users/wonjunlee/miniconda3/envs/cv/include -arch x86_64 -DVERSION_INFO=0.0.12 -Isrc/ -I/Users/wonjunlee/miniconda3/envs/cv/lib/python3.6/site-packages/pybind11/include -I/Users/wonjunlee/miniconda3/envs/cv/include/python3.6m -c src/main_grids.cpp -o build/temp.macosx-10.9-x86_64-3.6/src/main_grids.o -std=c++17 -mmacosx-version-min=10.14 -fvisibility=hidden -g0 -stdlib=libc++ -std=c++14\n",
            "creating build/lib.macosx-10.9-x86_64-3.6\n",
            "g++ -bundle -undefined dynamic_lookup -L/Users/wonjunlee/miniconda3/envs/cv/lib -arch x86_64 -L/Users/wonjunlee/miniconda3/envs/cv/lib -arch x86_64 -arch x86_64 build/temp.macosx-10.9-x86_64-3.6/src/main_grids.o -o build/lib.macosx-10.9-x86_64-3.6/MonotoneScheme.cpython-36m-darwin.so -mmacosx-version-min=10.14 -stdlib=libc++\n",
            "copying build/lib.macosx-10.9-x86_64-3.6/MonotoneScheme.cpython-36m-darwin.so -> \n"
          ]
        }
      ],
      "source": [
        "import os\n",
        "os.chdir('../')\n",
        "!bash compile.sh"
      ]
    },
    {
      "cell_type": "code",
      "execution_count": 3,
      "metadata": {
        "id": "19ai916xeH0p"
      },
      "outputs": [],
      "source": [
        "import os\n",
        "import numpy as np\n",
        "import time\n",
        "import tqdm\n",
        "import matplotlib.pyplot as plt\n",
        "from MonotoneScheme import Affine2DSolver, interpolate\n",
        "\n",
        "# make folder if not exists\n",
        "save_fig_path = 'figures'\n",
        "if not os.path.exists(save_fig_path):\n",
        "    os.makedirs(save_fig_path)\n",
        "save_data_path = 'data'\n",
        "if not os.path.exists(save_data_path):\n",
        "    os.makedirs(save_data_path)"
      ]
    },
    {
      "cell_type": "code",
      "execution_count": 4,
      "metadata": {},
      "outputs": [
        {
          "data": {
            "image/png": "[encoded data removed]",
            "text/plain": [
              "<Figure size 432x288 with 1 Axes>"
            ]
          },
          "metadata": {
            "needs_background": "light"
          },
          "output_type": "display_data"
        }
      ],
      "source": [
        "# 2D version\n",
        "def get_stencils_2d(stencil_size=3):\n",
        "    # Let's get a numpy array that contains the list of stencils given the stencil size in 3D\n",
        "    stencils_tmp = []\n",
        "    dim = 2\n",
        "\n",
        "    for i1 in range(-stencil_size, stencil_size+1):\n",
        "        for i2 in range(-stencil_size, stencil_size+1):\n",
        "            if i1!= 0 or i2!=0:\n",
        "                stencils_tmp.append((i1,i2, np.arctan2(i1,i2), i1*i1 + i2*i2))\n",
        "\n",
        "    stencils_tmp.sort(key=lambda x: x[dim+1])\n",
        "    stencils_tmp.sort(key=lambda x: x[dim])\n",
        "    stencils = []\n",
        "    for i, it in enumerate(stencils_tmp):\n",
        "        if i == 0:\n",
        "            stencils.append(it[:dim])\n",
        "        else:\n",
        "            if it[dim] != stencils_tmp[i-1][dim]:\n",
        "                stencils.append(it[:dim])\n",
        "    return stencils\n",
        "\n",
        "stencil_size = 3\n",
        "stencils = get_stencils_2d(stencil_size = stencil_size)\n",
        "fig = plt.figure()\n",
        "ax = fig.add_subplot(111)\n",
        "for idx,i in enumerate(stencils):\n",
        "    ax.plot([0,i[0]], [0,i[1]], 'o-')\n",
        "    ax.text(i[0],i[1], f\"{idx}\")\n",
        "ax.set_aspect('equal')\n",
        "plt.show()"
      ]
    },
    {
      "cell_type": "code",
      "execution_count": 5,
      "metadata": {},
      "outputs": [
        {
          "data": {
            "image/png": "[encoded data removed]",
            "text/plain": [
              "<Figure size 432x288 with 1 Axes>"
            ]
          },
          "metadata": {
            "needs_background": "light"
          },
          "output_type": "display_data"
        }
      ],
      "source": [
        "# create an empty f\n",
        "n = 64\n",
        "f = np.zeros((n,n))\n",
        "u = np.ones((n,n))\n",
        "\n",
        "# initializing f\n",
        "xx = np.linspace(0.5/n,1-0.5/n,n)\n",
        "X,Y = np.meshgrid(xx,xx)\n",
        "\n",
        "def f_ellipse():\n",
        "    f = np.zeros((n,n))\n",
        "    theta = -np.pi/3.0\n",
        "    Xr = 0.5 + np.cos(theta)*(X-0.5) - np.sin(theta)*(Y-0.5)\n",
        "    Yr = 0.5 + np.sin(theta)*(X-0.5) + np.cos(theta)*(Y-0.5)\n",
        "    f[4*pow(Xr - 0.5,2) + pow(Yr-0.5,2) < 0.5 ** 2] = 1\n",
        "    return f\n",
        "\n",
        "# f = f_ellipse()\n",
        "# f[(np.abs(X-0.5)<0.4) & (np.abs(Y-0.5)<0.4)] = 1\n",
        "# f[(np.abs(X-0.5)<0.3) & (np.abs(Y-0.5)<0.3)] = 1\n",
        "f[((X-0.3)**2 + (Y-0.3)**2 <0.22**2) | ((X-0.7)**2 + (Y-0.7)**2 <0.22**2)] = 1\n",
        "\n",
        "# plotting f\n",
        "fig = plt.figure()\n",
        "ax = fig.add_subplot()\n",
        "ax.contourf(X,Y,f)\n",
        "ax.set_title(\"f\")\n",
        "ax.set_aspect('equal')\n",
        "plt.show()"
      ]
    },
    {
      "cell_type": "code",
      "execution_count": 8,
      "metadata": {},
      "outputs": [
        {
          "name": "stdout",
          "output_type": "stream",
          "text": [
            "Constructor finished. n:  64 stencil size:  3 number of stencils:  32\n"
          ]
        },
        {
          "name": "stderr",
          "output_type": "stream",
          "text": [
            " 98%|█████████▊| 49/50 [00:02<00:00, 23.09it/s]\n"
          ]
        },
        {
          "name": "stdout",
          "output_type": "stream",
          "text": [
            "Tolerance met! i: 50 error: 1.63e-03 time: 2.12e+00 sec\n"
          ]
        },
        {
          "data": {
            "image/png": "[encoded data removed]",
            "text/plain": [
              "<Figure size 432x216 with 2 Axes>"
            ]
          },
          "metadata": {
            "needs_background": "light"
          },
          "output_type": "display_data"
        }
      ],
      "source": [
        "# optimization parameters\n",
        "max_iter = 50\n",
        "tolerance= 1.3e-9\n",
        "\n",
        "# initialize the HJ solver\n",
        "solver  = Affine2DSolver(f, stencils, stencil_size)\n",
        "\n",
        "# Running the iterations\n",
        "start_time = time.time()\n",
        "error_array = []\n",
        "time_array = []\n",
        "\n",
        "error = 1.0\n",
        "for i in tqdm.tqdm(range(1,max_iter+1)):\n",
        "    error = solver.iterate(u)\n",
        "    error_array.append(error)\n",
        "    time_array.append(time.time() - start_time)\n",
        "    # print(f\"i: {i} error: {error:0.2e} time: {time.time() - start_time:0.2e} sec\")\n",
        "    # if error is less than tolerance stop the iteration\n",
        "    if error < tolerance or i == max_iter:\n",
        "        print(f\"Tolerance met! i: {i} error: {error:0.2e} time: {time.time() - start_time:0.2e} sec\")\n",
        "        break\n",
        "    # save dat\n",
        "    if i % 100 == 0:\n",
        "        np.save(f\"{save_data_path}/data-{i//100}.npy\",u)\n",
        "    \n",
        "fig = plt.figure(figsize=(6,3))\n",
        "ax = fig.add_subplot(121)\n",
        "ax.plot(time_array, error_array,'o-')\n",
        "title_str = f\"i: {i} error: {error:0.2e} time: {time.time() - start_time:0.2e} sec\"\n",
        "plt.title(title_str)\n",
        "ax = fig.add_subplot(122)\n",
        "ax.contourf(X,Y,u)\n",
        "ax.axis('off')\n",
        "ax.axis('off')\n",
        "ax.set_aspect('equal')\n",
        "plt.savefig(f\"{save_fig_path}/fig-{i//10}.png\")\n",
        "plt.show()"
      ]
    },
    {
      "cell_type": "code",
      "execution_count": null,
      "metadata": {},
      "outputs": [],
      "source": []
    }
  ],
  "metadata": {
    "accelerator": "GPU",
    "colab": {
      "gpuType": "T4",
      "provenance": []
    },
    "kernelspec": {
      "display_name": "Python 3",
      "name": "python3"
    },
    "language_info": {
      "codemirror_mode": {
        "name": "ipython",
        "version": 3
      },
      "file_extension": ".py",
      "mimetype": "text/x-python",
      "name": "python",
      "nbconvert_exporter": "python",
      "pygments_lexer": "ipython3",
      "version": "3.6.10"
    }
  },
  "nbformat": 4,
  "nbformat_minor": 0
}
