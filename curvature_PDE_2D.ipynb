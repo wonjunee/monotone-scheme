{
  "cells": [
    {
      "cell_type": "code",
      "execution_count": null,
      "metadata": {
        "colab": {
          "base_uri": "https://localhost:8080/"
        },
        "id": "nSh2osFVUk3H",
        "outputId": "01f7be25-e867-46c2-f23d-989054d37726"
      },
      "outputs": [],
      "source": [
        "# Run if you are on Google Colab to install the Python bindings\n",
        "!bash compile.sh"
      ]
    },
    {
      "cell_type": "code",
      "execution_count": null,
      "metadata": {
        "id": "19ai916xeH0p"
      },
      "outputs": [],
      "source": [
        "import os\n",
        "import numpy as np\n",
        "import time\n",
        "import matplotlib.pyplot as plt\n",
        "from monotone import Curv2DSolver"
      ]
    },
    {
      "cell_type": "markdown",
      "metadata": {},
      "source": []
    },
    {
      "cell_type": "code",
      "execution_count": null,
      "metadata": {},
      "outputs": [],
      "source": [
        "# 2D version\n",
        "\n",
        "# Let's get a numpy array that contains the list of stencils given the stencil size in 3D\n",
        "stencil_size = 3\n",
        "stencils_tmp = []\n",
        "# add cases for i0 == 0\n",
        "\n",
        "for i1 in range(-stencil_size, stencil_size+1):\n",
        "    for i2 in range(-stencil_size, stencil_size+1):\n",
        "        if i1!= 0 or i2!=0:\n",
        "            stencils_tmp.append((0,i1,i2, np.arctan2(i1,i2), i1*i1 + i2*i2))\n",
        "\n",
        "stencils_tmp.sort(key=lambda x: x[4])\n",
        "stencils_tmp.sort(key=lambda x: x[3])\n",
        "stencils = []\n",
        "for i, it in enumerate(stencils_tmp):\n",
        "    if i == 0:\n",
        "        stencils.append(it[:3])\n",
        "    else:\n",
        "        if it[3] != stencils_tmp[i-1][3]:\n",
        "            stencils.append(it[:3])\n",
        "\n",
        "fig = plt.figure()\n",
        "ax = fig.add_subplot(111)\n",
        "for i in stencils:\n",
        "    ax.plot([0,i[1]], [0,i[2]], 'o-')\n",
        "ax.set_aspect('equal')\n",
        "plt.show()"
      ]
    },
    {
      "cell_type": "code",
      "execution_count": null,
      "metadata": {},
      "outputs": [],
      "source": [
        "# create an empty f\n",
        "n = 50\n",
        "f = np.zeros((n,n,n))\n",
        "u = np.zeros((n,n,n))\n",
        "\n",
        "# initializing f\n",
        "xx = np.linspace(0.5/n,1-0.5/n,n)\n",
        "X,Y,Z = np.meshgrid(xx,xx,xx)\n",
        "X2,Y2 = np.meshgrid(xx,xx)\n",
        "\n",
        "def f_ellipse():\n",
        "    f = np.zeros((n,n,n))\n",
        "    theta = -np.pi/3.0\n",
        "    Xr = 0.5 + np.cos(theta)*(X-0.5) - np.sin(theta)*(Y-0.5)\n",
        "    Yr = 0.5 + np.sin(theta)*(X-0.5) + np.cos(theta)*(Y-0.5)\n",
        "    f[4*pow(Xr - 0.5,2) + pow(Yr-0.5,2) + pow(Z-0.5,2) < 0.5 ** 2] = 1\n",
        "    return f\n",
        "\n",
        "# f = f_ellipse()\n",
        "f[(np.abs(X-0.5)<0.5) & (np.abs(Y-0.5)<0.5) & (np.abs(Z-0.5)<0.5)] = 1\n",
        "# f[(np.abs(X-0.5)<0.3) & (np.abs(Y-0.5)<0.3) & (np.abs(Z-0.5)<0.3)] = 1\n",
        "# f[((X-0.3)**2 + (Y-0.3)**2 + (Z-0.3)**2 <0.3**2) | ((X-0.7)**2 + (Y-0.7)**2 + (Z-0.7)**2 <0.3**2)] = 1\n",
        "\n",
        "\n",
        "# returning contiguous arrays in memory\n",
        "u = np.ascontiguousarray(u, dtype=np.float64)  # solution\n",
        "f = np.ascontiguousarray(f, dtype=np.float64)  # the right hand side function\n",
        "\n",
        "# plotting f\n",
        "fig = plt.figure()\n",
        "ax = fig.add_subplot(projection=\"3d\")\n",
        "mask = f > 0\n",
        "ax.scatter3D(X[mask],Y[mask],Z[mask], c = f[mask], alpha=0.2)\n",
        "ax.set_xlim3d([0,1])\n",
        "ax.set_ylim3d([0,1])\n",
        "ax.set_zlim3d([0,1])\n",
        "ax.set_title(\"f\")\n",
        "plt.show()"
      ]
    },
    {
      "cell_type": "code",
      "execution_count": null,
      "metadata": {},
      "outputs": [],
      "source": [
        "# make folder if not exists\n",
        "save_fig_path = 'figures'\n",
        "if not os.path.exists(save_fig_path):\n",
        "    os.makedirs(save_fig_path)\n",
        "save_data_path = 'data'\n",
        "if not os.path.exists(save_data_path):\n",
        "    os.makedirs(save_data_path)\n",
        "\n",
        "# optimization parameters\n",
        "max_iter = 1000\n",
        "tolerance= 1e-3\n",
        "\n",
        "# initialize the HJ solver\n",
        "solver = Curv3DSolver(f, stencils, stencil_size)\n",
        "\n",
        "# Running the iterations\n",
        "start_time = time.time()\n",
        "error_array = []\n",
        "offset_arr = [5, 15,25, 35, 45]\n",
        "for i in range(max_iter):\n",
        "    error = solver.perform_one_iteration(u)\n",
        "    error_array.append(error)\n",
        "    # print(f\"i: {i} error: {error:0.2e} time: {time.time() - start_time:0.2e} sec\")\n",
        "    # if error is less than tolerance stop the iteration\n",
        "    if error < tolerance:\n",
        "        break\n",
        "    # save figures\n",
        "    if i % 10 == 0:\n",
        "        fig = plt.figure(figsize=(15,5))\n",
        "        \n",
        "        for ii in range(5):\n",
        "            ax = fig.add_subplot(2,5,ii+1)\n",
        "            ax.contourf(X2,Y2,u[offset_arr[ii],:,:])\n",
        "            ax.axis('off')\n",
        "            ax.set_aspect('equal')\n",
        "        title_str = f\"i: {i} error: {error:0.2e} time: {time.time() - start_time:0.2e} sec\"\n",
        "        plt.title(title_str)\n",
        "        ax = fig.add_subplot(2,1,2)\n",
        "        ax.plot(error_array,'o-')\n",
        "        plt.savefig(f\"{save_fig_path}/fig-{i//10}.png\")\n",
        "        plt.show()\n",
        "    # save data\n",
        "    if i % 100 == 0:\n",
        "        np.save(f\"{save_data_path}/data-{i//100}.npy\",u)\n",
        "    "
      ]
    },
    {
      "cell_type": "code",
      "execution_count": null,
      "metadata": {},
      "outputs": [],
      "source": [
        "# plotting the result\n",
        "fig = plt.figure(figsize=(6,6))\n",
        "ax = fig.add_subplot(projection=\"3d\")\n",
        "skip = 4\n",
        "mask = f[::skip,::skip,::skip] > 0\n",
        "ax.scatter3D(X[::skip,::skip,::skip][mask],Y[::skip,::skip,::skip][mask],Z[::skip,::skip,::skip][mask], c = u[::skip,::skip,::skip][mask], alpha=0.8)\n",
        "ax.set_xlim3d([0,1])\n",
        "ax.set_ylim3d([0,1])\n",
        "ax.set_zlim3d([0,1])\n",
        "plt.tight_layout()\n",
        "plt.savefig(f\"{save_fig_path}/3d-particle.png\")\n",
        "# ax.set_title(\"f\")\n",
        "plt.show()"
      ]
    },
    {
      "cell_type": "code",
      "execution_count": null,
      "metadata": {},
      "outputs": [],
      "source": [
        "# plotting the result\n",
        "fig = plt.figure(figsize=(6,6))\n",
        "ax = fig.add_subplot(projection=\"3d\")\n",
        "plot_N = 4\n",
        "offset_arr = [5, 15, 25, 35, 45]\n",
        "\n",
        "for ii in offset_arr:\n",
        "    ax.contourf(X2,Y2,u[ii,:,:],offset=ii/n, alpha=0.7)\n",
        "ax.set_xlim3d([0,1])\n",
        "ax.set_ylim3d([0,1])\n",
        "ax.set_zlim3d([0,1])\n",
        "ax.view_init(10,10)\n",
        "# ax.set_title(\"Computed solution\")\n",
        "plt.tight_layout(0)\n",
        "plt.savefig(f\"{save_fig_path}/3d-plot.png\")\n",
        "plt.show()"
      ]
    },
    {
      "cell_type": "code",
      "execution_count": null,
      "metadata": {},
      "outputs": [],
      "source": [
        "pow(3,2)"
      ]
    },
    {
      "cell_type": "code",
      "execution_count": null,
      "metadata": {},
      "outputs": [],
      "source": []
    }
  ],
  "metadata": {
    "accelerator": "GPU",
    "colab": {
      "gpuType": "T4",
      "provenance": []
    },
    "kernelspec": {
      "display_name": "Python 3",
      "name": "python3"
    },
    "language_info": {
      "codemirror_mode": {
        "name": "ipython",
        "version": 3
      },
      "file_extension": ".py",
      "mimetype": "text/x-python",
      "name": "python",
      "nbconvert_exporter": "python",
      "pygments_lexer": "ipython3",
      "version": "3.6.10"
    }
  },
  "nbformat": 4,
  "nbformat_minor": 0
}
